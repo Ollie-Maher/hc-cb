{
 "cells": [
  {
   "cell_type": "code",
   "execution_count": null,
   "id": "93b29246",
   "metadata": {
    "vscode": {
     "languageId": "plaintext"
    }
   },
   "outputs": [],
   "source": [
    "!git clone https://github.com/Ollie-Maher/hc-cb.git"
   ]
  }
 ],
 "metadata": {
  "language_info": {
   "name": "python"
  }
 },
 "nbformat": 4,
 "nbformat_minor": 5
}
