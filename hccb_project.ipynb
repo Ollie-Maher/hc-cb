{
  "cells": [
    {
      "cell_type": "code",
      "execution_count": null,
      "id": "93b29246",
      "metadata": {
        "vscode": {
          "languageId": "plaintext"
        },
        "id": "93b29246"
      },
      "outputs": [],
      "source": [
        "!git clone https://github.com/Ollie-Maher/hc-cb.git"
      ]
    },
    {
      "cell_type": "code",
      "source": [
        "%cd hc-cb\n",
        "!pip install -r requirements.txt"
      ],
      "metadata": {
        "id": "ovw99c6EGu6B"
      },
      "id": "ovw99c6EGu6B",
      "execution_count": null,
      "outputs": []
    },
    {
      "cell_type": "code",
      "source": [
        "!python hippocampus_test.py"
      ],
      "metadata": {
        "id": "XR6CLwFZG3WK"
      },
      "id": "XR6CLwFZG3WK",
      "execution_count": null,
      "outputs": []
    }
  ],
  "metadata": {
    "language_info": {
      "name": "python"
    },
    "colab": {
      "provenance": []
    },
    "kernelspec": {
      "name": "python3",
      "display_name": "Python 3"
    }
  },
  "nbformat": 4,
  "nbformat_minor": 5
}